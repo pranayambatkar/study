{
 "cells": [
  {
   "cell_type": "code",
   "execution_count": 1,
   "id": "a8e670a9-24f8-4647-8d13-9174f03625ce",
   "metadata": {},
   "outputs": [
    {
     "name": "stdout",
     "output_type": "stream",
     "text": [
      "Hello\n"
     ]
    }
   ],
   "source": [
    "print(\"Hello\")"
   ]
  },
  {
   "cell_type": "code",
   "execution_count": 2,
   "id": "19b6b9d9-9afe-46fa-b6e0-6b695d45232c",
   "metadata": {},
   "outputs": [
    {
     "name": "stdout",
     "output_type": "stream",
     "text": [
      "Addition: 30\n"
     ]
    }
   ],
   "source": [
    "# Addition of two number\n",
    "v_num1 = 10\n",
    "v_num2 = 20\n",
    "v_addition = v_num1 + v_num2\n",
    "print(\"Addition:\", v_addition)"
   ]
  },
  {
   "cell_type": "code",
   "execution_count": null,
   "id": "3ad6bef1-a27b-418d-8188-3f18a9bbd73f",
   "metadata": {},
   "outputs": [],
   "source": [
    "v_num3 = int(input(\"Enter a number: \"))"
   ]
  }
 ],
 "metadata": {
  "kernelspec": {
   "display_name": "Python 3 (ipykernel)",
   "language": "python",
   "name": "python3"
  },
  "language_info": {
   "codemirror_mode": {
    "name": "ipython",
    "version": 3
   },
   "file_extension": ".py",
   "mimetype": "text/x-python",
   "name": "python",
   "nbconvert_exporter": "python",
   "pygments_lexer": "ipython3",
   "version": "3.13.3"
  }
 },
 "nbformat": 4,
 "nbformat_minor": 5
}
